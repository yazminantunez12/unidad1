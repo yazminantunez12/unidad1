{
  "nbformat": 4,
  "nbformat_minor": 0,
  "metadata": {
    "colab": {
      "provenance": [],
      "authorship_tag": "ABX9TyPNzsa7oRKAvcNlv1PX5p8q",
      "include_colab_link": true
    },
    "kernelspec": {
      "name": "python3",
      "display_name": "Python 3"
    },
    "language_info": {
      "name": "python"
    }
  },
  "cells": [
    {
      "cell_type": "markdown",
      "metadata": {
        "id": "view-in-github",
        "colab_type": "text"
      },
      "source": [
        "<a href=\"https://colab.research.google.com/github/yazminantunez12/unidad1/blob/main/Untitled7ipynb.ipynb\" target=\"_parent\"><img src=\"https://colab.research.google.com/assets/colab-badge.svg\" alt=\"Open In Colab\"/></a>"
      ]
    },
    {
      "cell_type": "markdown",
      "source": [
        "Yazmin Antunez Belmontes - Practica 7-\n",
        "25/09/25\n",
        "-----------------------------------\n",
        "Slicing NumPy\n",
        "--------------------------------\n",
        "Utilice STEP para determinar el paso corte.\n",
        "Ejemplo:([1,2,3,4,5,6,7]) - Devuelve todos los elementos\n",
        "del indice 1 al indice 3\n",
        "-----------------------------------\n"
      ],
      "metadata": {
        "id": "GbzyS-zHHALG"
      }
    },
    {
      "cell_type": "code",
      "source": [
        "import numpy as np\n",
        "arr = np.array([1, 2, 3, 4, 5, 6, 7])\n",
        "print(arr[1:5:2])\n"
      ],
      "metadata": {
        "colab": {
          "base_uri": "https://localhost:8080/"
        },
        "id": "32KtLnxWIMjr",
        "outputId": "8e57115a-7bba-4b4d-c03a-0029fbc316a8"
      },
      "execution_count": 1,
      "outputs": [
        {
          "output_type": "stream",
          "name": "stdout",
          "text": [
            "[2 4]\n"
          ]
        }
      ]
    },
    {
      "cell_type": "markdown",
      "source": [
        "Ejemplo 2:([1,2,3,4,5,6,7])\n",
        "Devuelve los elementos de la matriz\n",
        "---------------"
      ],
      "metadata": {
        "id": "BcEgBu8fIx4T"
      }
    },
    {
      "cell_type": "code",
      "source": [
        "import numpy as np\n",
        "arr = np.array([1, 2, 3, 4, 5, 6, 7])\n",
        "print(arr[::2])"
      ],
      "metadata": {
        "colab": {
          "base_uri": "https://localhost:8080/"
        },
        "id": "uyovgLLfJAm-",
        "outputId": "3fc167ff-09fa-47da-a790-1323e0b2ad16"
      },
      "execution_count": 3,
      "outputs": [
        {
          "output_type": "stream",
          "name": "stdout",
          "text": [
            "[1 3 5 7]\n"
          ]
        }
      ]
    },
    {
      "cell_type": "markdown",
      "source": [
        "Slice de matrices 2D\n",
        "----------------------------\n",
        "Ejemplo:([[1,2,3,4,5],[6,7,8,9,10]])\n",
        "Del segundo elemento, corte del indice 1 al 4"
      ],
      "metadata": {
        "id": "6ziVdyL0JzT6"
      }
    },
    {
      "cell_type": "code",
      "source": [
        "import numpy as np\n",
        "arr = np.array([[1, 2, 3, 4, 5], [6, 7, 8, 9, 10]])\n",
        "print(arr[1, 1:4])\n"
      ],
      "metadata": {
        "colab": {
          "base_uri": "https://localhost:8080/"
        },
        "id": "TECQ-kUnLndL",
        "outputId": "995d5902-ad3f-445c-ee64-a80dc7a82769"
      },
      "execution_count": 4,
      "outputs": [
        {
          "output_type": "stream",
          "name": "stdout",
          "text": [
            "[7 8 9]\n"
          ]
        }
      ]
    },
    {
      "cell_type": "markdown",
      "source": [
        "Ejemplo 4:([[1,2,3,4,5],[6,7,8,9,10]]) De ambos ejemplos,\n",
        "devuelve el indice 2"
      ],
      "metadata": {
        "id": "6D4Z9-OkNI8J"
      }
    },
    {
      "cell_type": "code",
      "source": [
        "import numpy as np\n",
        "arr = np.array([[1, 2, 3, 4, 5], [6, 7, 8, 9, 10]])\n",
        "print(arr[0:2, 2])\n"
      ],
      "metadata": {
        "colab": {
          "base_uri": "https://localhost:8080/"
        },
        "id": "GTIAOLYlNe4J",
        "outputId": "df723bfa-03f6-464d-ecb4-e7cfe7c3f8e3"
      },
      "execution_count": 5,
      "outputs": [
        {
          "output_type": "stream",
          "name": "stdout",
          "text": [
            "[3 8]\n"
          ]
        }
      ]
    },
    {
      "cell_type": "markdown",
      "source": [
        "Ejemplo 5:([[1,2,3,4,5],[6,7,8,9,10]]) De ambos elementos, corta el indice 1 al 4."
      ],
      "metadata": {
        "id": "QlSGBxKsN_zx"
      }
    },
    {
      "cell_type": "code",
      "source": [
        "import numpy as np\n",
        "arr = np.array([[1, 2, 3, 4, 5], [6, 7, 8, 9, 10]])\n",
        "print(arr[0:2, 1:4])"
      ],
      "metadata": {
        "colab": {
          "base_uri": "https://localhost:8080/"
        },
        "id": "Yaqv1hnkOleR",
        "outputId": "19c069b4-55f0-4720-884e-85c2f12eb119"
      },
      "execution_count": 6,
      "outputs": [
        {
          "output_type": "stream",
          "name": "stdout",
          "text": [
            "[[2 3 4]\n",
            " [7 8 9]]\n"
          ]
        }
      ]
    },
    {
      "cell_type": "markdown",
      "source": [
        "Ejercicio 1 - Autonomo\n",
        "Del siguiente arreglo¿Cual es el resultado?\n",
        "([1,2,3,4,5,6,7]) Corta del 1er elemento al 6to elemento con paso 2"
      ],
      "metadata": {
        "id": "z1CtIPNrPPka"
      }
    },
    {
      "cell_type": "code",
      "source": [
        "import numpy as np\n",
        "arr = np.array([1, 2, 3, 4, 5, 6, 7])\n",
        "print(arr[1:6:2])"
      ],
      "metadata": {
        "colab": {
          "base_uri": "https://localhost:8080/"
        },
        "id": "HzbnFD9rP0CB",
        "outputId": "8049226a-d3ad-4397-c75f-d751fc1ac7e4"
      },
      "execution_count": 7,
      "outputs": [
        {
          "output_type": "stream",
          "name": "stdout",
          "text": [
            "[2 4 6]\n"
          ]
        }
      ]
    }
  ]
}