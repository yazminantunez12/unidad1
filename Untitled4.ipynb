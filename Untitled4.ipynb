{
  "nbformat": 4,
  "nbformat_minor": 0,
  "metadata": {
    "colab": {
      "provenance": [],
      "authorship_tag": "ABX9TyNo9+2KLS8W9o2WHUVrs8yl",
      "include_colab_link": true
    },
    "kernelspec": {
      "name": "python3",
      "display_name": "Python 3"
    },
    "language_info": {
      "name": "python"
    }
  },
  "cells": [
    {
      "cell_type": "markdown",
      "metadata": {
        "id": "view-in-github",
        "colab_type": "text"
      },
      "source": [
        "<a href=\"https://colab.research.google.com/github/yazminantunez12/unidad1/blob/main/Untitled4.ipynb\" target=\"_parent\"><img src=\"https://colab.research.google.com/assets/colab-badge.svg\" alt=\"Open In Colab\"/></a>"
      ]
    },
    {
      "cell_type": "code",
      "execution_count": null,
      "metadata": {
        "id": "MZFD_v_zOMGm"
      },
      "outputs": [],
      "source": []
    },
    {
      "cell_type": "markdown",
      "source": [
        "NumPy indexacion de matrices acceder a elementos de una matriz.\n",
        "la indexacion de matrices es la misma que acceder a un elemento de una matriz haciendo referencia al indice.\n",
        "los indices de las matrices NumPy comienzan en 0, lo que significa que el primer indice tiene el indice 0, el 2do indice 1 y el tercero 3 y el indice 2, etc.\n",
        "Ejemplo: Obtengo el primer elemento de la siguiente matriz."
      ],
      "metadata": {
        "id": "nO706o25PYHp"
      }
    },
    {
      "cell_type": "code",
      "source": [
        "import numpy as np\n",
        "arreglo = np.array([1, 2, 3, 4,5])\n",
        "print(arreglo[0])"
      ],
      "metadata": {
        "colab": {
          "base_uri": "https://localhost:8080/"
        },
        "id": "FSnYOdWEQQGq",
        "outputId": "b1f3ea7a-225f-45bd-f06f-a59f10c89219"
      },
      "execution_count": 4,
      "outputs": [
        {
          "output_type": "stream",
          "name": "stdout",
          "text": [
            "1\n"
          ]
        }
      ]
    },
    {
      "cell_type": "markdown",
      "source": [
        "De la siguiente: 6,7,8,9,10 obtenga el 3er y 4to elemento."
      ],
      "metadata": {
        "id": "ulJJx7qoS01C"
      }
    },
    {
      "cell_type": "code",
      "source": [
        "import numpy as np\n",
        "arreglo=np.array([6,7,8,9,10])\n",
        "print(arreglo[2])\n",
        "print(arreglo[3])"
      ],
      "metadata": {
        "colab": {
          "base_uri": "https://localhost:8080/"
        },
        "id": "118hYyOnTIYg",
        "outputId": "32f850c9-9995-4ad5-f876-0eb87b483a3f"
      },
      "execution_count": 5,
      "outputs": [
        {
          "output_type": "stream",
          "name": "stdout",
          "text": [
            "8\n",
            "9\n"
          ]
        }
      ]
    },
    {
      "cell_type": "markdown",
      "source": [
        "Acceder  a matrices 2D, para acceder a elementos para matrices 2D podemos utilizar numeros enteros separados por comas que representen el numero de dimension y el indice del elemento.\n",
        "\n",
        "Piensa en matrices 2D como una tabla con filas y columnas, donde la dimension 1 representa la fila y el indice 2 representa la columna.\n",
        "\n",
        "Realiza una matriz 2D."
      ],
      "metadata": {
        "id": "DA5fRxN6T0jB"
      }
    },
    {
      "cell_type": "code",
      "source": [
        "import numpy as np\n",
        "arreglo=np.array([[1,2,3,4,5],[6,7,8,9,10]])"
      ],
      "metadata": {
        "id": "RQY9YYA3VIj5"
      },
      "execution_count": 9,
      "outputs": []
    },
    {
      "cell_type": "markdown",
      "source": [
        "De la matriz 2D accede al elemento de la primera fila."
      ],
      "metadata": {
        "id": "yDZCxo_VVlEY"
      }
    },
    {
      "cell_type": "code",
      "source": [
        "import numpy as np\n",
        "arreglo=np.array([[1,2,3,4,5],[6,7,8,9,10]])\n",
        "print(arreglo[0,1])"
      ],
      "metadata": {
        "colab": {
          "base_uri": "https://localhost:8080/"
        },
        "id": "OF_l0fr5V0mn",
        "outputId": "9043b729-5e62-4754-b631-936c61a48305"
      },
      "execution_count": 10,
      "outputs": [
        {
          "output_type": "stream",
          "name": "stdout",
          "text": [
            "2\n"
          ]
        }
      ]
    }
  ]
}