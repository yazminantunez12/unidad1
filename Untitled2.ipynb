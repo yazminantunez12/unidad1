{
  "nbformat": 4,
  "nbformat_minor": 0,
  "metadata": {
    "colab": {
      "provenance": [],
      "authorship_tag": "ABX9TyOd4J0rIreJLEgHQP3+2/bU",
      "include_colab_link": true
    },
    "kernelspec": {
      "name": "python3",
      "display_name": "Python 3"
    },
    "language_info": {
      "name": "python"
    }
  },
  "cells": [
    {
      "cell_type": "markdown",
      "metadata": {
        "id": "view-in-github",
        "colab_type": "text"
      },
      "source": [
        "<a href=\"https://colab.research.google.com/github/yazminantunez12/unidad1/blob/main/Untitled2.ipynb\" target=\"_parent\"><img src=\"https://colab.research.google.com/assets/colab-badge.svg\" alt=\"Open In Colab\"/></a>"
      ]
    },
    {
      "cell_type": "markdown",
      "source": [
        "Del las siguientes listas 1,2,3,4,5 y 6,7,8,9,10 ,Accede al elemento de la 2a fila, 5a columna"
      ],
      "metadata": {
        "id": "bUZuY-cxHs5S"
      }
    },
    {
      "cell_type": "code",
      "source": [
        "import numpy as np\n",
        "arreglo=np.array([[1,2,3,4,5],[6,7,8,9,10]])\n",
        "print(arreglo[1,4])\n"
      ],
      "metadata": {
        "colab": {
          "base_uri": "https://localhost:8080/"
        },
        "id": "Rk1_nqqFILHi",
        "outputId": "005cbd7b-da09-4e76-9d4d-dcfae1ce2476"
      },
      "execution_count": 3,
      "outputs": [
        {
          "output_type": "stream",
          "name": "stdout",
          "text": [
            "10\n"
          ]
        }
      ]
    },
    {
      "cell_type": "markdown",
      "source": [
        "De las siguientes listas 1, 2, 3 -  4, 5, 6 - 7, 8, 9 y 10, 11, 12, Acceda al tercer elemento de la segunda matriz de la primera matriz"
      ],
      "metadata": {
        "id": "IjCkINIPJoa-"
      }
    },
    {
      "cell_type": "code",
      "source": [
        "import numpy as np\n",
        "arreglo=np.array([[[1,2,3],[4,5,6]],[[7,8,9],[10,11,12]]])\n",
        "print(arreglo[0,1,2])\n"
      ],
      "metadata": {
        "colab": {
          "base_uri": "https://localhost:8080/"
        },
        "id": "ibq6y07sJtXt",
        "outputId": "b94a5b89-901f-4df7-e9de-c04fbd920398"
      },
      "execution_count": 6,
      "outputs": [
        {
          "output_type": "stream",
          "name": "stdout",
          "text": [
            "6\n"
          ]
        }
      ]
    }
  ]
}