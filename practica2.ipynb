{
  "nbformat": 4,
  "nbformat_minor": 0,
  "metadata": {
    "colab": {
      "provenance": [],
      "authorship_tag": "ABX9TyMuHaO1IJqeH9vJ5dkMk0uH",
      "include_colab_link": true
    },
    "kernelspec": {
      "name": "python3",
      "display_name": "Python 3"
    },
    "language_info": {
      "name": "python"
    }
  },
  "cells": [
    {
      "cell_type": "markdown",
      "metadata": {
        "id": "view-in-github",
        "colab_type": "text"
      },
      "source": [
        "<a href=\"https://colab.research.google.com/github/yazminantunez12/unidad1/blob/main/practica2.ipynb\" target=\"_parent\"><img src=\"https://colab.research.google.com/assets/colab-badge.svg\" alt=\"Open In Colab\"/></a>"
      ]
    },
    {
      "cell_type": "code",
      "execution_count": null,
      "metadata": {
        "id": "LA8XQOyCq4Bf"
      },
      "outputs": [],
      "source": []
    },
    {
      "cell_type": "markdown",
      "source": [
        "  practica 2-NumPy Yazmin Alejandra Antunez Belmontes 5F\n",
        "  Fecha 09 de septiembre del 2025\n",
        "  ---------------\n",
        "  Como verificar el numero de dimensiones.\n",
        "  NumPy proporciona el atributo ndim que devuelve un numero entero que nos dice cuantas dimensiones tiene una matriz.\n",
        "  --------------\n",
        "  Ejemplo: Comprueba de cuantas dimensiones son las siguientes matrices.\n",
        "  --------------"
      ],
      "metadata": {
        "id": "YgQ3keFIq8WP"
      }
    },
    {
      "cell_type": "code",
      "source": [
        "import numpy as np\n",
        "arregloA=np.array(42)\n",
        "arregloB=np.array([1,2,3,4,5])\n",
        "arregloC=np.array([[1,2,3],[4,5,6]])\n",
        "arregloD=np.array([[[1,2,3],[4,5,6]],[[1,2,3],[4,5,6]]])\n",
        "print(arregloA.ndim)\n",
        "print(arregloB.ndim)\n",
        "print(arregloC.ndim)\n",
        "print(arregloD.ndim)"
      ],
      "metadata": {
        "colab": {
          "base_uri": "https://localhost:8080/"
        },
        "id": "qx336MXrshGe",
        "outputId": "c3980464-9dcf-4185-f9c8-5b74aee59879"
      },
      "execution_count": 1,
      "outputs": [
        {
          "output_type": "stream",
          "name": "stdout",
          "text": [
            "0\n",
            "1\n",
            "2\n",
            "3\n"
          ]
        }
      ]
    },
    {
      "cell_type": "markdown",
      "source": [
        "Matrices de dimensiones superiores.\n",
        "Una matriz puede tener cualquier numero de dimensiones.\n",
        "Cuando se crea la matriz, puede definir el numero de dimensiones utilizando el argumento ndmin. Ejemplo: Crea una matriz con 5 dimensiones y verifica que tenga las 5 dimensiones.\n",
        "----------------------"
      ],
      "metadata": {
        "id": "gqVVXsx7uz0L"
      }
    },
    {
      "cell_type": "code",
      "source": [
        "import numpy as np\n",
        "arreglo=np.array([1,2,3,4],ndmin=5)\n",
        "print(arreglo)\n",
        "print('numero de dimensiones:',arreglo.ndim)"
      ],
      "metadata": {
        "colab": {
          "base_uri": "https://localhost:8080/"
        },
        "id": "0Lfcm40AwLhJ",
        "outputId": "ad07700c-d1c1-4870-cfb1-1766c8d5ba80"
      },
      "execution_count": 2,
      "outputs": [
        {
          "output_type": "stream",
          "name": "stdout",
          "text": [
            "[[[[[1 2 3 4]]]]]\n",
            "numero de dimensiones: 5\n"
          ]
        }
      ]
    },
    {
      "cell_type": "markdown",
      "source": [
        "Ejercicio:\n",
        "Considerando la siguiente matriz\n",
        "Arreglo=np.array([[1,2,3],[4,5,6]])\n",
        "¿cuantas dimensiones tiene?\n",
        "Respuesta=2"
      ],
      "metadata": {
        "id": "lmQ9k420ykSp"
      }
    },
    {
      "cell_type": "markdown",
      "source": [
        "NumPy indexacion de matrices acceder a elementos de una matriz.\n",
        "La indexacion de matrices es lo mismo que acceder a un elemento de la matriz.\n",
        "Puede acceder a un elemento de la matriz haciendo referencia a su numero de indice.\n",
        "Los indices en la matrices NumPy comienzan en 0, lo que se significa que el primer elemento tiene el indice 0 y el segundo tiene el indice1, etc.\n",
        "Ejemplo: obtenga el primer elemento de la siguiente matriz.\n",
        "------------------------"
      ],
      "metadata": {
        "id": "sYJJJ8S8zTHI"
      }
    },
    {
      "cell_type": "code",
      "source": [
        "import numpy as np\n",
        "arreglo=np.array([1,2,3,4])\n",
        "print(arreglo[0])"
      ],
      "metadata": {
        "colab": {
          "base_uri": "https://localhost:8080/"
        },
        "id": "BKcUJLny093g",
        "outputId": "d3b939cf-dd4d-41db-eb1d-e1d34986fe56"
      },
      "execution_count": 3,
      "outputs": [
        {
          "output_type": "stream",
          "name": "stdout",
          "text": [
            "1\n"
          ]
        }
      ]
    }
  ]
}