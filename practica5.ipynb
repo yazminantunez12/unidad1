{
  "nbformat": 4,
  "nbformat_minor": 0,
  "metadata": {
    "colab": {
      "provenance": [],
      "authorship_tag": "ABX9TyONfaztAoYWK/J5j03S/Ks9",
      "include_colab_link": true
    },
    "kernelspec": {
      "name": "python3",
      "display_name": "Python 3"
    },
    "language_info": {
      "name": "python"
    }
  },
  "cells": [
    {
      "cell_type": "markdown",
      "metadata": {
        "id": "view-in-github",
        "colab_type": "text"
      },
      "source": [
        "<a href=\"https://colab.research.google.com/github/yazminantunez12/unidad1/blob/main/practica5.ipynb\" target=\"_parent\"><img src=\"https://colab.research.google.com/assets/colab-badge.svg\" alt=\"Open In Colab\"/></a>"
      ]
    },
    {
      "cell_type": "code",
      "execution_count": 9,
      "metadata": {
        "id": "qhjJcj1Q2Qdf",
        "colab": {
          "base_uri": "https://localhost:8080/"
        },
        "outputId": "991039ab-61d4-4f67-a179-368c3b637732"
      },
      "outputs": [
        {
          "output_type": "stream",
          "name": "stdout",
          "text": [
            "La media es: 39.375\n",
            "La mediana es: 39.5\n",
            "La moda es: 12\n"
          ]
        }
      ],
      "source": [
        "import numpy as np\n",
        "from scipy import stats\n",
        "\n",
        "valores = np.array([25, 45, 56, 12, 67, 34, 55, 21])\n",
        "media = np.mean(valores)\n",
        "mediana = np.median(valores)\n",
        "moda = stats.mode(valores)\n",
        "print(\"La media es:\", media)\n",
        "print(\"La mediana es:\", mediana)\n",
        "print(\"La moda es:\", moda.mode)"
      ]
    },
    {
      "cell_type": "code",
      "source": [
        "import numpy as np\n",
        "from scipy import stats\n",
        "\n",
        "valores = np.array([10, 20, 30, 40, 20, 50, 20])\n",
        "media = np.mean(valores)\n",
        "mediana = np.median(valores)\n",
        "moda = stats.mode(valores)\n",
        "print(\"La media es:\", media)\n",
        "print(\"La mediana es:\", mediana)\n",
        "print(\"La moda es:\", moda\n",
        ".mode)"
      ],
      "metadata": {
        "colab": {
          "base_uri": "https://localhost:8080/"
        },
        "id": "LxNVhDYO6xrL",
        "outputId": "93edda6a-9866-49d4-e8d5-c68423c87d1a"
      },
      "execution_count": 10,
      "outputs": [
        {
          "output_type": "stream",
          "name": "stdout",
          "text": [
            "La media es: 27.142857142857142\n",
            "La mediana es: 20.0\n",
            "La moda es: 20\n"
          ]
        }
      ]
    },
    {
      "cell_type": "code",
      "source": [
        "import numpy as np\n",
        "from scipy import stats\n",
        "valores = np.array([10, 20, 30, 40, 50])\n",
        "media = np.mean(valores)\n",
        "mediana = np.median(valores)\n",
        "moda = stats.mode(valores)\n",
        "print(\"La media es:\", media)\n",
        "print(\"La mediana es:\", mediana)\n",
        "print(\"La moda es:\", moda.mode)"
      ],
      "metadata": {
        "colab": {
          "base_uri": "https://localhost:8080/"
        },
        "id": "p6ubDfP263Vy",
        "outputId": "121c0ed0-7327-4698-df54-abf83c497218"
      },
      "execution_count": 11,
      "outputs": [
        {
          "output_type": "stream",
          "name": "stdout",
          "text": [
            "La media es: 30.0\n",
            "La mediana es: 30.0\n",
            "La moda es: 10\n"
          ]
        }
      ]
    }
  ]
}