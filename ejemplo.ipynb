{
  "nbformat": 4,
  "nbformat_minor": 0,
  "metadata": {
    "colab": {
      "provenance": [],
      "authorship_tag": "ABX9TyPtGIzya7JS+X3O28bq22DN",
      "include_colab_link": true
    },
    "kernelspec": {
      "name": "python3",
      "display_name": "Python 3"
    },
    "language_info": {
      "name": "python"
    }
  },
  "cells": [
    {
      "cell_type": "markdown",
      "metadata": {
        "id": "view-in-github",
        "colab_type": "text"
      },
      "source": [
        "<a href=\"https://colab.research.google.com/github/yazminantunez12/unidad1/blob/main/ejemplo.ipynb\" target=\"_parent\"><img src=\"https://colab.research.google.com/assets/colab-badge.svg\" alt=\"Open In Colab\"/></a>"
      ]
    },
    {
      "cell_type": "code",
      "execution_count": 1,
      "metadata": {
        "colab": {
          "base_uri": "https://localhost:8080/"
        },
        "id": "JIPshsxBwmzg",
        "outputId": "d8929857-8afe-423e-df47-18e4616966ea"
      },
      "outputs": [
        {
          "output_type": "stream",
          "name": "stdout",
          "text": [
            "hola mundo\n"
          ]
        }
      ],
      "source": [
        "print(\"hola mundo\")"
      ]
    },
    {
      "cell_type": "markdown",
      "source": [
        "variables"
      ],
      "metadata": {
        "id": "TekZGdEPyWQA"
      }
    },
    {
      "cell_type": "markdown",
      "source": [
        "\n"
      ],
      "metadata": {
        "id": "P38fhP2Lzjgw"
      }
    },
    {
      "cell_type": "code",
      "source": [
        "#variables en python\n",
        "nombre=\"yazmin\"\n",
        "paterno=\"antunez\"\n",
        "materno=\"belmontes\"\n",
        "edad=16\n",
        "estatura=1,60\n",
        "\n",
        "print(nombre,paterno,materno,edad,estatura)"
      ],
      "metadata": {
        "colab": {
          "base_uri": "https://localhost:8080/"
        },
        "id": "AQj6I3-Syazn",
        "outputId": "d43407b9-d086-4156-e5f9-d836062167c0"
      },
      "execution_count": 2,
      "outputs": [
        {
          "output_type": "stream",
          "name": "stdout",
          "text": [
            "yazmin antunez belmontes 16 (1, 60)\n"
          ]
        }
      ]
    },
    {
      "cell_type": "markdown",
      "source": [
        "solicitar 2 numeros al usuario y sumarlos\n"
      ],
      "metadata": {
        "id": "8to6_b3TzwWl"
      }
    },
    {
      "cell_type": "code",
      "source": [
        "numero1=int(input(\"ingresa el primer numero\"))\n",
        "numero2=int(input(\"ingresa el segundo numero\"))\n",
        "suma=numero1+numero2\n",
        "print(\"suma=\",suma)"
      ],
      "metadata": {
        "colab": {
          "base_uri": "https://localhost:8080/"
        },
        "id": "B8tm7blVz7At",
        "outputId": "1e6fb981-0183-4e87-a7a9-f7ecae7a3233"
      },
      "execution_count": 3,
      "outputs": [
        {
          "output_type": "stream",
          "name": "stdout",
          "text": [
            "ingresa el primer numero2\n",
            "ingresa el segundo numero4\n",
            "suma= 6\n"
          ]
        }
      ]
    },
    {
      "cell_type": "markdown",
      "source": [
        "prueba de colab pyhton"
      ],
      "metadata": {
        "id": "Nn0gaYDBxffI"
      }
    },
    {
      "cell_type": "code",
      "source": [],
      "metadata": {
        "id": "5EN1YP-8xx2G"
      },
      "execution_count": null,
      "outputs": []
    }
  ]
}