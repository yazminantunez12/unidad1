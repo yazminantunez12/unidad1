{
  "nbformat": 4,
  "nbformat_minor": 0,
  "metadata": {
    "colab": {
      "provenance": [],
      "authorship_tag": "ABX9TyPK0PiW1VqhEDW5SlonRbhS",
      "include_colab_link": true
    },
    "kernelspec": {
      "name": "python3",
      "display_name": "Python 3"
    },
    "language_info": {
      "name": "python"
    }
  },
  "cells": [
    {
      "cell_type": "markdown",
      "metadata": {
        "id": "view-in-github",
        "colab_type": "text"
      },
      "source": [
        "<a href=\"https://colab.research.google.com/github/yazminantunez12/unidad1/blob/main/numpy.ipynb\" target=\"_parent\"><img src=\"https://colab.research.google.com/assets/colab-badge.svg\" alt=\"Open In Colab\"/></a>"
      ]
    },
    {
      "cell_type": "code",
      "execution_count": null,
      "metadata": {
        "id": "kEphalFGipaK"
      },
      "outputs": [],
      "source": []
    },
    {
      "cell_type": "markdown",
      "source": [
        "NumPy es la libreria de pyhton.\n",
        "NumPy se utiliza para trabajar con matrices o arreglos.\n",
        "NumPy es la abreviatura de \"python numerico\"\n",
        "Tambien tiene funciones para trabajar en el dominio del algebra lineal, la transformada y las matrices.\n",
        "En python tenemos listas que sirven como matrices, pero son lentas de procesar.\n",
        "NumPy tiene como objetivo proporcionar un objeto de matriz que sea 50 veces mas rapido que las listas tradicionales."
      ],
      "metadata": {
        "id": "9iMWyllOjv1q"
      }
    },
    {
      "cell_type": "code",
      "source": [
        "#Primero tenemos que importar la libreria\n",
        "import numpy\n",
        "\n",
        "arreglo = numpy.array([1,2,3,4,5])\n",
        "print(arreglo)"
      ],
      "metadata": {
        "colab": {
          "base_uri": "https://localhost:8080/"
        },
        "id": "SU48352jlHD2",
        "outputId": "8fc1141b-8d70-443f-f829-9855367bb133"
      },
      "execution_count": 1,
      "outputs": [
        {
          "output_type": "stream",
          "name": "stdout",
          "text": [
            "[1 2 3 4 5]\n"
          ]
        }
      ]
    },
    {
      "cell_type": "markdown",
      "source": [
        "NumPy como np NumPy generalmente se importa bajo el alias np.\n",
        "En python los alias son un nombre alternativo para referirse a la misma cosa."
      ],
      "metadata": {
        "id": "7OJTSMHGmLM2"
      }
    },
    {
      "cell_type": "code",
      "source": [
        "import numpy as np\n",
        "\n",
        "arreglo = np.array([1,2,3,4,5])\n",
        "print(arreglo)"
      ],
      "metadata": {
        "colab": {
          "base_uri": "https://localhost:8080/"
        },
        "id": "KUnxyW9ZnUCt",
        "outputId": "1a8994db-451d-48c7-ab3d-4ac2b734ca53"
      },
      "execution_count": 5,
      "outputs": [
        {
          "output_type": "stream",
          "name": "stdout",
          "text": [
            "[1 2 3 4 5]\n"
          ]
        }
      ]
    },
    {
      "cell_type": "markdown",
      "source": [
        "Comprobando la version de NumPy la cadena de la version se almacena en atributo __version__"
      ],
      "metadata": {
        "id": "bAWwF8VWncuF"
      }
    },
    {
      "cell_type": "code",
      "source": [
        "import numpy as np\n",
        "print(np.__version__)"
      ],
      "metadata": {
        "colab": {
          "base_uri": "https://localhost:8080/"
        },
        "id": "te5GQ9qvoHw0",
        "outputId": "3fef7bf5-1159-4967-af6e-55ff4a4a1fec"
      },
      "execution_count": 7,
      "outputs": [
        {
          "output_type": "stream",
          "name": "stdout",
          "text": [
            "2.0.2\n"
          ]
        }
      ]
    },
    {
      "cell_type": "markdown",
      "source": [
        "NumPy creando matrices Crear un objeto ndarray de NumPy.\n",
        "NumPy se utiliza para trabajar con matrices.\n",
        "El objetivo de matriz se llama ndarray\n",
        "Podemos crear un NumPy ndarray utilizando la funcion()"
      ],
      "metadata": {
        "id": "8L9jpksIoapA"
      }
    },
    {
      "cell_type": "code",
      "source": [
        "import numpy as np\n",
        "arreglo=np.array([\"yazmin\",\"Ana\",\"kimberly\",\"marisol\"])\n",
        "print(arreglo)\n",
        "print(type(arreglo))"
      ],
      "metadata": {
        "colab": {
          "base_uri": "https://localhost:8080/"
        },
        "id": "zI39WcmHpI1G",
        "outputId": "006dc19d-5cff-4bb0-f35b-f89c0078b50c"
      },
      "execution_count": 9,
      "outputs": [
        {
          "output_type": "stream",
          "name": "stdout",
          "text": [
            "['yazmin' 'Ana' 'kimberly' 'marisol']\n",
            "<class 'numpy.ndarray'>\n"
          ]
        }
      ]
    },
    {
      "cell_type": "markdown",
      "source": [
        "Dimensiones en matrices\n",
        "Una dimension en matrices es un nivel de profundidad de matriz(matrices\n",
        "anidadas)\n",
        "Una matriz anidada continen matrices como elementos.\n",
        "Matrices 0-D. Son elementos de una matriz. cada valor de una matriz es una matriz 0.D. Ejemplo: Crea una matriz 0.D con un valor de 42."
      ],
      "metadata": {
        "id": "0UYURDbVqGgN"
      }
    },
    {
      "cell_type": "code",
      "source": [
        "import numpy as np\n",
        "arreglo=np.array(42)\n",
        "print(arreglo)"
      ],
      "metadata": {
        "colab": {
          "base_uri": "https://localhost:8080/"
        },
        "id": "vC_2n97xrFZ0",
        "outputId": "4ddbf3d5-cefe-45bd-a422-123da6fced25"
      },
      "execution_count": 10,
      "outputs": [
        {
          "output_type": "stream",
          "name": "stdout",
          "text": [
            "42\n"
          ]
        }
      ]
    },
    {
      "cell_type": "markdown",
      "source": [
        "Matrices 1-D\n",
        "Una matriz que tiene matrices 0-D como elementos se demonima matriz unidimensional o 1.D\n",
        "Estas son matrices mas comunes y basicas.\n",
        "Ejemplo: Crea una matriz de una dimension que tenga valores 1,2,3,4,5"
      ],
      "metadata": {
        "id": "k5r2fzuZsXa8"
      }
    },
    {
      "cell_type": "code",
      "source": [
        "import numpy as np\n",
        "arreglo=np.array([1,2,3,4,5])\n",
        "print(arreglo)"
      ],
      "metadata": {
        "colab": {
          "base_uri": "https://localhost:8080/"
        },
        "id": "OOua9slwtNwE",
        "outputId": "853bc53f-9fca-442f-9bc3-1f491f5cac6e"
      },
      "execution_count": 11,
      "outputs": [
        {
          "output_type": "stream",
          "name": "stdout",
          "text": [
            "[1 2 3 4 5]\n"
          ]
        }
      ]
    },
    {
      "cell_type": "markdown",
      "source": [
        "Matrices de 2 dimensiones una matriz que tiene matrices 1-D como elementos se denomina matriz 2-D.\n",
        "A menudo se utilizan para representar matrices de segundo orden.\n",
        "NumPy tiene como submodulo completi dedicado a observaciones con matrices llamada numpy.mat Ejemplo: Crea una matriz de 2-D que contenga 2 matrices con los valores 123 y 456."
      ],
      "metadata": {
        "id": "XC5gJ-GJtwR7"
      }
    },
    {
      "cell_type": "code",
      "source": [
        "import numpy as np\n",
        "arreglo=np.array([[1,2,3],[4,5,6]])\n",
        "print(arreglo)"
      ],
      "metadata": {
        "colab": {
          "base_uri": "https://localhost:8080/"
        },
        "id": "3ONYuzasuvaT",
        "outputId": "c27fe142-d692-4321-8d24-cc2e7d25158c"
      },
      "execution_count": 12,
      "outputs": [
        {
          "output_type": "stream",
          "name": "stdout",
          "text": [
            "[[1 2 3]\n",
            " [4 5 6]]\n"
          ]
        }
      ]
    },
    {
      "cell_type": "markdown",
      "source": [
        "Matrices 3D\n",
        "Una matriz que tiene 2D se denomina matriz 3D,\n",
        "estas matrices se utilizan para representar una matriz de tercer orden.\n",
        "Ejemplo: Crea una matriz 3D con dos matrices bidimensionales, conteniendo dos matrices con los valores 1,2,3 y 4,5,6."
      ],
      "metadata": {
        "id": "bd3yJ2DCvUBj"
      }
    },
    {
      "cell_type": "code",
      "source": [
        "import numpy as np\n",
        "arreglo=np.array([[[1,2,3],[4,5,6]],[[1,2,3],[4,5,6]]])\n",
        "print(arreglo)"
      ],
      "metadata": {
        "colab": {
          "base_uri": "https://localhost:8080/"
        },
        "id": "9gQ4Wtx0wJbD",
        "outputId": "23a88450-fde5-41a7-bc82-18ae6577b53c"
      },
      "execution_count": 13,
      "outputs": [
        {
          "output_type": "stream",
          "name": "stdout",
          "text": [
            "[[[1 2 3]\n",
            "  [4 5 6]]\n",
            "\n",
            " [[1 2 3]\n",
            "  [4 5 6]]]\n"
          ]
        }
      ]
    }
  ]
}