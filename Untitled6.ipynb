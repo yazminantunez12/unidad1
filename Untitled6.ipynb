{
  "nbformat": 4,
  "nbformat_minor": 0,
  "metadata": {
    "colab": {
      "provenance": [],
      "authorship_tag": "ABX9TyP7RN1IW+cA9Vw6zWBgPGN4",
      "include_colab_link": true
    },
    "kernelspec": {
      "name": "python3",
      "display_name": "Python 3"
    },
    "language_info": {
      "name": "python"
    }
  },
  "cells": [
    {
      "cell_type": "markdown",
      "metadata": {
        "id": "view-in-github",
        "colab_type": "text"
      },
      "source": [
        "<a href=\"https://colab.research.google.com/github/yazminantunez12/unidad1/blob/main/Untitled6.ipynb\" target=\"_parent\"><img src=\"https://colab.research.google.com/assets/colab-badge.svg\" alt=\"Open In Colab\"/></a>"
      ]
    },
    {
      "cell_type": "markdown",
      "source": [
        "Yazmin Alejandra Antunez Belmontes- 24/09/25\n",
        "Practica 6- Cortar Arreglos NumPy\n",
        "---------------------------------------------------------\n",
        "Slice en python significa tomar elementos de un indice determinado a\n",
        "otro determinado.\n",
        "Pasamos slice en lugar del indice de esta manera:[star:end] Sino pasamos\n",
        "el inicio se considera 0 sino pasamos el final, su longitud es considera\n",
        "una matriz de una dimension.\n",
        "-----------------------------------------------------------\n",
        "Ejemplo:([1,2,3,4,5,6,7]).\n",
        "Cortar los elementos del indice 1 al indice 5\n",
        "--------------------------"
      ],
      "metadata": {
        "id": "ZPoRBeLCDjuV"
      }
    },
    {
      "cell_type": "code",
      "source": [
        "import numpy as np\n",
        "arr=np.array([1,2,3,4,5,6,7])\n",
        "print(arr[1:5])\n"
      ],
      "metadata": {
        "colab": {
          "base_uri": "https://localhost:8080/"
        },
        "id": "TjBY5l6yKcLk",
        "outputId": "83a59576-95eb-43d5-95ef-a0fe837fe502"
      },
      "execution_count": 1,
      "outputs": [
        {
          "output_type": "stream",
          "name": "stdout",
          "text": [
            "[2 3 4 5]\n"
          ]
        }
      ]
    },
    {
      "cell_type": "markdown",
      "source": [
        "Ejemplo 2:\n",
        "([1,2,3,4,5,6,7])\n",
        "Cortar del indice 4 hasta el final de la matriz."
      ],
      "metadata": {
        "id": "h9ZfA_s9LT0M"
      }
    },
    {
      "cell_type": "code",
      "source": [
        "import numpy as np\n",
        "arreglo=np.array([1,2,3,4,5,6,7])\n",
        "print(arreglo[4:])"
      ],
      "metadata": {
        "colab": {
          "base_uri": "https://localhost:8080/"
        },
        "id": "eZ60atSBLvcU",
        "outputId": "bba46ecd-774a-4b5b-ca6f-cae2b1f3b7bc"
      },
      "execution_count": 2,
      "outputs": [
        {
          "output_type": "stream",
          "name": "stdout",
          "text": [
            "[5 6 7]\n"
          ]
        }
      ]
    },
    {
      "cell_type": "markdown",
      "source": [
        "Ejemplo 3: ([1,2,3,4,5,6,7])\n",
        "Cortar elementos desde el principio hasta el indice 5"
      ],
      "metadata": {
        "id": "PRSY-PdnMKP1"
      }
    },
    {
      "cell_type": "code",
      "source": [
        "import numpy as np\n",
        "arreglo=np.array([1,2,3,4,5,6,7])\n",
        "print(arreglo[:5])"
      ],
      "metadata": {
        "colab": {
          "base_uri": "https://localhost:8080/"
        },
        "id": "d8AN_C-tMdqT",
        "outputId": "a4a75712-5e67-4e9a-807f-15a8ae0a92a9"
      },
      "execution_count": 3,
      "outputs": [
        {
          "output_type": "stream",
          "name": "stdout",
          "text": [
            "[1 2 3 4 5]\n"
          ]
        }
      ]
    },
    {
      "cell_type": "markdown",
      "source": [
        "Ejemplo 4:([1,2,3,4,5,6,7])\n",
        "Corte negativo. Utilizamos el operador \"menos\" para hacer\n",
        "referencia a un indice desde el final.\n",
        "---------------------------------------------------\n",
        "Cortar del indice 3 desde el final al indice 1 desde el final."
      ],
      "metadata": {
        "id": "4kPBIfDwM3O9"
      }
    },
    {
      "cell_type": "code",
      "source": [
        "import numpy as np\n",
        "arreglo=np.array([1,2,3,4,5,6,7])\n",
        "print(arreglo[-3:-1])\n"
      ],
      "metadata": {
        "colab": {
          "base_uri": "https://localhost:8080/"
        },
        "id": "lNM3kFW3Ndgk",
        "outputId": "70dc27d6-61fd-450c-f3f5-fbe0781feff3"
      },
      "execution_count": 4,
      "outputs": [
        {
          "output_type": "stream",
          "name": "stdout",
          "text": [
            "[5 6]\n"
          ]
        }
      ]
    }
  ]
}